{
 "cells": [
  {
   "cell_type": "code",
   "execution_count": 3,
   "id": "53677713-bbda-477c-9f82-6e36db8124e8",
   "metadata": {},
   "outputs": [
    {
     "name": "stdout",
     "output_type": "stream",
     "text": [
      "2\n",
      "4\n",
      "6\n",
      "8\n",
      "10\n",
      "12\n",
      "14\n",
      "16\n",
      "18\n"
     ]
    }
   ],
   "source": [
    "for i in range(2,20,2):\n",
    "    print(i)"
   ]
  },
  {
   "cell_type": "code",
   "execution_count": 5,
   "id": "e2715595-9212-4dfb-8379-5ebf56a2465f",
   "metadata": {},
   "outputs": [
    {
     "name": "stdout",
     "output_type": "stream",
     "text": [
      "Ayman\n",
      "Muaz\n"
     ]
    }
   ],
   "source": [
    "names=['ayman','muaz']\n",
    "for name in names:\n",
    "    print(name.title())"
   ]
  },
  {
   "cell_type": "code",
   "execution_count": 9,
   "id": "40025c47-f8f4-468b-ad1a-cf054cac47de",
   "metadata": {},
   "outputs": [
    {
     "name": "stdout",
     "output_type": "stream",
     "text": [
      "10\n",
      "9\n",
      "8\n",
      "7\n",
      "6\n",
      "5\n",
      "4\n",
      "3\n",
      "2\n",
      "1\n"
     ]
    }
   ],
   "source": [
    "for i in range(10,0,-1):\n",
    " print(i)"
   ]
  },
  {
   "cell_type": "code",
   "execution_count": 17,
   "id": "cbeaa4a3-f8ac-4ae0-8ebd-b016e43fbe2f",
   "metadata": {},
   "outputs": [
    {
     "name": "stdout",
     "output_type": "stream",
     "text": [
      "3\n",
      "6\n",
      "9\n",
      "12\n"
     ]
    }
   ],
   "source": [
    "numbers=[1,3,6,9,8,12]\n",
    "for number in numbers:\n",
    "    if number % 3==0:\n",
    "     print(number)"
   ]
  },
  {
   "cell_type": "code",
   "execution_count": 19,
   "id": "ec1baf31-68a5-485b-b0cf-2198aa3037c4",
   "metadata": {},
   "outputs": [
    {
     "name": "stdout",
     "output_type": "stream",
     "text": [
      "1\n",
      "4\n",
      "9\n",
      "16\n",
      "25\n",
      "36\n",
      "49\n",
      "64\n",
      "81\n",
      "100\n"
     ]
    }
   ],
   "source": [
    "for i in range(1,11):\n",
    "    print(i*i)"
   ]
  },
  {
   "cell_type": "code",
   "execution_count": 55,
   "id": "8be2808c-ab8c-4a48-a9ab-f6d376aac35a",
   "metadata": {},
   "outputs": [
    {
     "name": "stdout",
     "output_type": "stream",
     "text": [
      "[32.0, 50.0, 68.0, 86.0, 212.0]\n"
     ]
    }
   ],
   "source": [
    "celcius_temps=[0,10,20,30,100]\n",
    "farenheit_temps=[]\n",
    "for celcius in celcius_temps:\n",
    " farenheit=(celcius*9/5)+32\n",
    " farenheit_temps.append(farenheit)\n",
    "print(farenheit_temps)"
   ]
  },
  {
   "cell_type": "code",
   "execution_count": 63,
   "id": "4991af37-da27-4be5-addf-d188e9e9df2c",
   "metadata": {},
   "outputs": [
    {
     "name": "stdout",
     "output_type": "stream",
     "text": [
      " 5 * 1 = 5\n",
      " 5 * 2 = 10\n",
      " 5 * 3 = 15\n",
      " 5 * 4 = 20\n",
      " 5 * 5 = 25\n",
      " 5 * 6 = 30\n",
      " 5 * 7 = 35\n",
      " 5 * 8 = 40\n",
      " 5 * 9 = 45\n",
      " 5 * 10 = 50\n"
     ]
    }
   ],
   "source": [
    "for i in range(1,11):\n",
    " result=5*i\n",
    " print(' 5 *',i,'=',result)"
   ]
  },
  {
   "cell_type": "code",
   "execution_count": 70,
   "id": "dfcbe767-af20-4d21-9dfe-925ff5884c0e",
   "metadata": {},
   "outputs": [
    {
     "name": "stdout",
     "output_type": "stream",
     "text": [
      "the sum is: 15\n"
     ]
    }
   ],
   "source": [
    "numbers=[1,2,3,4,5]\n",
    "total=0\n",
    "for number in numbers:\n",
    " total=total+number\n",
    "print('the sum is:', total)\n",
    "    "
   ]
  },
  {
   "cell_type": "code",
   "execution_count": 76,
   "id": "e31b7dca-8530-4113-b1a0-8b39fdb04221",
   "metadata": {},
   "outputs": [
    {
     "name": "stdout",
     "output_type": "stream",
     "text": [
      "h\n",
      "e\n",
      "l\n",
      "l\n",
      "o\n",
      "_\n",
      "w\n",
      "o\n",
      "r\n",
      "l\n",
      "d\n",
      "!\n"
     ]
    }
   ],
   "source": [
    "my_string='hello_world!'\n",
    "for character in my_string:\n",
    " print(character)\n"
   ]
  },
  {
   "cell_type": "code",
   "execution_count": 84,
   "id": "f0c4cb34-c017-45a0-ba25-e3aac87cef54",
   "metadata": {},
   "outputs": [
    {
     "name": "stdout",
     "output_type": "stream",
     "text": [
      "banana\n"
     ]
    }
   ],
   "source": [
    "words=['apple','banana','kiwi']\n",
    "for word in words:\n",
    "    if len(word)>5:\n",
    "     print(word)"
   ]
  },
  {
   "cell_type": "code",
   "execution_count": null,
   "id": "f820a8a1-a37b-42db-bf38-a40e8c9739b9",
   "metadata": {},
   "outputs": [],
   "source": []
  }
 ],
 "metadata": {
  "kernelspec": {
   "display_name": "Python [conda env:base] *",
   "language": "python",
   "name": "conda-base-py"
  },
  "language_info": {
   "codemirror_mode": {
    "name": "ipython",
    "version": 3
   },
   "file_extension": ".py",
   "mimetype": "text/x-python",
   "name": "python",
   "nbconvert_exporter": "python",
   "pygments_lexer": "ipython3",
   "version": "3.12.7"
  }
 },
 "nbformat": 4,
 "nbformat_minor": 5
}
